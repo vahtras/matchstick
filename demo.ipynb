{
 "cells": [
  {
   "cell_type": "code",
   "execution_count": 11,
   "id": "3c053ac4",
   "metadata": {},
   "outputs": [],
   "source": [
    "%load_ext autoreload\n",
    "%autoreload 2"
   ]
  },
  {
   "cell_type": "code",
   "execution_count": 12,
   "id": "154a79c2",
   "metadata": {},
   "outputs": [],
   "source": [
    "from rich import print\n",
    "from matches import Digit"
   ]
  },
  {
   "cell_type": "code",
   "execution_count": 13,
   "id": "1e272ca2",
   "metadata": {},
   "outputs": [
    {
     "data": {
      "text/html": [
       "<pre style=\"white-space:pre;overflow-x:auto;line-height:normal;font-family:Menlo,'DejaVu Sans Mono',consolas,'Courier New',monospace\">\n",
       " ──\n",
       "│  ┃\n",
       " ──\n",
       "│  ┃\n",
       " ──\n",
       "\n",
       "</pre>\n"
      ],
      "text/plain": [
       "\n",
       " ──\n",
       "│  ┃\n",
       " ──\n",
       "│  ┃\n",
       " ──\n",
       "\n"
      ]
     },
     "metadata": {},
     "output_type": "display_data"
    },
    {
     "data": {
      "text/html": [
       "<pre style=\"white-space:pre;overflow-x:auto;line-height:normal;font-family:Menlo,'DejaVu Sans Mono',consolas,'Courier New',monospace\">\n",
       " ━━\n",
       "│  ┃\n",
       " ━━\n",
       "┃  │\n",
       " ━━\n",
       "\n",
       "</pre>\n"
      ],
      "text/plain": [
       "\n",
       " ━━\n",
       "│  ┃\n",
       " ━━\n",
       "┃  │\n",
       " ━━\n",
       "\n"
      ]
     },
     "metadata": {},
     "output_type": "display_data"
    },
    {
     "data": {
      "text/html": [
       "<pre style=\"white-space:pre;overflow-x:auto;line-height:normal;font-family:Menlo,'DejaVu Sans Mono',consolas,'Courier New',monospace\">\n",
       " ━━\n",
       "│  ┃\n",
       " ━━\n",
       "│  ┃\n",
       " ━━\n",
       "\n",
       "</pre>\n"
      ],
      "text/plain": [
       "\n",
       " ━━\n",
       "│  ┃\n",
       " ━━\n",
       "│  ┃\n",
       " ━━\n",
       "\n"
      ]
     },
     "metadata": {},
     "output_type": "display_data"
    },
    {
     "data": {
      "text/html": [
       "<pre style=\"white-space:pre;overflow-x:auto;line-height:normal;font-family:Menlo,'DejaVu Sans Mono',consolas,'Courier New',monospace\">\n",
       " ──\n",
       "┃  ┃\n",
       " ━━\n",
       "│  ┃\n",
       " ──\n",
       "\n",
       "</pre>\n"
      ],
      "text/plain": [
       "\n",
       " ──\n",
       "┃  ┃\n",
       " ━━\n",
       "│  ┃\n",
       " ──\n",
       "\n"
      ]
     },
     "metadata": {},
     "output_type": "display_data"
    },
    {
     "data": {
      "text/html": [
       "<pre style=\"white-space:pre;overflow-x:auto;line-height:normal;font-family:Menlo,'DejaVu Sans Mono',consolas,'Courier New',monospace\">\n",
       " ──\n",
       "│  │\n",
       " ──\n",
       "│  │\n",
       " ──\n",
       "\n",
       "</pre>\n"
      ],
      "text/plain": [
       "\n",
       " ──\n",
       "│  │\n",
       " ──\n",
       "│  │\n",
       " ──\n",
       "\n"
      ]
     },
     "metadata": {},
     "output_type": "display_data"
    }
   ],
   "source": [
    "for i in (1, 2, 3, 4, 5):\n",
    "    print(Digit(i))"
   ]
  },
  {
   "cell_type": "markdown",
   "id": "3aa84ea3",
   "metadata": {},
   "source": [
    "Ok, single digits reasonable, but a representation of an equation required more formatting, a matrix display like\n",
    "\n",
    "Now, single equalities\n",
    "\n",
    "1 = 1\n",
    "2 = 2\n",
    "\n",
    "* find all transformations of digits\n",
    "* do a reverse order of transformations, to see if one transformation can arrive from different\n",
    "e. g. singles\n",
    "\n",
    "0 = 0 -> 6 = 0, 9 = 0, 0 = 6, 0 = 9, \n",
    "6 = 6 -> 0 = 6, 9 = 6, 6 = 0, 6 =  \n",
    "\n",
    "so the puzzle 6 = 0 has two solutions, 0 = 0, 6 = 6\n",
    "\n",
    "internal excitations and charge transfer excitation (one removed, anothre added)"
   ]
  },
  {
   "cell_type": "code",
   "execution_count": 7,
   "id": "33203acc",
   "metadata": {},
   "outputs": [],
   "source": [
    "# %load matches.py\n",
    "DIGIT_TEMPLATE = \"\"\"\n",
    " {0}\n",
    "{1}  {2}\n",
    " {3}\n",
    "{4}  {5}\n",
    " {6}\n",
    "\"\"\"\n",
    "\n",
    "\n",
    "class Digit:\n",
    "    def __init__(self, value):\n",
    "        self.value = value\n",
    "\n",
    "    def __repr__(self):\n",
    "        matches = ['──', '│', '│', '──', '│', '│', '──']\n",
    "        if self.value == 1:\n",
    "            matches[2] = '┃'\n",
    "            matches[5] = '┃'\n",
    "        elif self.value == 2:\n",
    "            matches[0] = '━━'\n",
    "            matches[2] = '┃'\n",
    "            matches[3] = '━━'\n",
    "            matches[4] = '┃'\n",
    "            matches[6] = '━━'\n",
    "        elif self.value == 3:\n",
    "            matches[0] = '━━'\n",
    "            matches[2] = '┃'\n",
    "            matches[3] = '━━'\n",
    "            matches[5] = '┃'\n",
    "            matches[6] = '━━'\n",
    "        return DIGIT_TEMPLATE.format(*matches)\n"
   ]
  },
  {
   "cell_type": "code",
   "execution_count": 8,
   "id": "e03f778e",
   "metadata": {},
   "outputs": [],
   "source": [
    "# %load digits.py\n",
    "class Digit:\n",
    "    occupied = {\n",
    "    0: (0, 1, 2, 4, 5, 6),\n",
    "    1: (2, 5),\n",
    "    2: (0, 2, 3, 4, 6),\n",
    "    3: (0, 2, 3, 5, 6),\n",
    "    4: (1, 2, 3, 5),\n",
    "    5: (0, 1, 3, 5, 6),\n",
    "    6: (0, 1, 3, 4, 5, 6),\n",
    "    7: (0, 2, 5),\n",
    "    8: (0, 1, 2, 3, 4, 5, 6),\n",
    "    9: (0, 1, 2, 3, 5, 6),\n",
    "    }\n",
    "    removals = {\n",
    "        8: {0, 6, 9}\n",
    "    }\n",
    "    def __init__(self, value):\n",
    "        self.value = value\n",
    "\n",
    "    def __len__(self):\n",
    "        return len(self.occupied[self.value])\n",
    "\n",
    "    def removal_values(self):\n",
    "        return self.removals[self.value]\n",
    "\n",
    "    def __repr__(self):\n",
    "        return \"\"\"\n",
    " {0}  \n",
    "{1}  {2}\n",
    " {3}\n",
    "{4}  {5}\n",
    " {6}\n",
    "\"\"\".format('──', '│', '┃', '──', '│', '┃', '──')\n"
   ]
  },
  {
   "cell_type": "code",
   "execution_count": 9,
   "id": "44979582",
   "metadata": {},
   "outputs": [
    {
     "data": {
      "text/plain": [
       "[\n",
       "  ──  \n",
       " │  ┃\n",
       "  ──\n",
       " │  ┃\n",
       "  ──,\n",
       " \n",
       "  ──  \n",
       " │  ┃\n",
       "  ──\n",
       " │  ┃\n",
       "  ──,\n",
       " \n",
       "  ──  \n",
       " │  ┃\n",
       "  ──\n",
       " │  ┃\n",
       "  ──,\n",
       " \n",
       "  ──  \n",
       " │  ┃\n",
       "  ──\n",
       " │  ┃\n",
       "  ──,\n",
       " \n",
       "  ──  \n",
       " │  ┃\n",
       "  ──\n",
       " │  ┃\n",
       "  ──,\n",
       " \n",
       "  ──  \n",
       " │  ┃\n",
       "  ──\n",
       " │  ┃\n",
       "  ──,\n",
       " \n",
       "  ──  \n",
       " │  ┃\n",
       "  ──\n",
       " │  ┃\n",
       "  ──,\n",
       " \n",
       "  ──  \n",
       " │  ┃\n",
       "  ──\n",
       " │  ┃\n",
       "  ──,\n",
       " \n",
       "  ──  \n",
       " │  ┃\n",
       "  ──\n",
       " │  ┃\n",
       "  ──,\n",
       " \n",
       "  ──  \n",
       " │  ┃\n",
       "  ──\n",
       " │  ┃\n",
       "  ──]"
      ]
     },
     "execution_count": 9,
     "metadata": {},
     "output_type": "execute_result"
    }
   ],
   "source": [
    "[Digit(i) for i in range(10)]"
   ]
  },
  {
   "cell_type": "markdown",
   "id": "730b21ea",
   "metadata": {},
   "source": [
    "## Single equality\n",
    "\n",
    "1 = 1"
   ]
  },
  {
   "cell_type": "code",
   "execution_count": 10,
   "id": "4ba5a18c",
   "metadata": {},
   "outputs": [
    {
     "data": {
      "text/html": [
       "<pre style=\"white-space:pre;overflow-x:auto;line-height:normal;font-family:Menlo,'DejaVu Sans Mono',consolas,'Courier New',monospace\"><span style=\"color: #008080; text-decoration-color: #008080; font-weight: bold\">0</span> = <span style=\"color: #008080; text-decoration-color: #008080; font-weight: bold\">0</span>\n",
       "</pre>\n"
      ],
      "text/plain": [
       "\u001b[1;36m0\u001b[0m = \u001b[1;36m0\u001b[0m\n"
      ]
     },
     "metadata": {},
     "output_type": "display_data"
    },
    {
     "data": {
      "text/html": [
       "<pre style=\"white-space:pre;overflow-x:auto;line-height:normal;font-family:Menlo,'DejaVu Sans Mono',consolas,'Courier New',monospace\">   <span style=\"color: #008080; text-decoration-color: #008080; font-weight: bold\">6</span> = <span style=\"color: #008080; text-decoration-color: #008080; font-weight: bold\">0</span>\n",
       "</pre>\n"
      ],
      "text/plain": [
       "   \u001b[1;36m6\u001b[0m = \u001b[1;36m0\u001b[0m\n"
      ]
     },
     "metadata": {},
     "output_type": "display_data"
    },
    {
     "data": {
      "text/html": [
       "<pre style=\"white-space:pre;overflow-x:auto;line-height:normal;font-family:Menlo,'DejaVu Sans Mono',consolas,'Courier New',monospace\">   <span style=\"color: #008080; text-decoration-color: #008080; font-weight: bold\">9</span> = <span style=\"color: #008080; text-decoration-color: #008080; font-weight: bold\">0</span>\n",
       "</pre>\n"
      ],
      "text/plain": [
       "   \u001b[1;36m9\u001b[0m = \u001b[1;36m0\u001b[0m\n"
      ]
     },
     "metadata": {},
     "output_type": "display_data"
    },
    {
     "data": {
      "text/html": [
       "<pre style=\"white-space:pre;overflow-x:auto;line-height:normal;font-family:Menlo,'DejaVu Sans Mono',consolas,'Courier New',monospace\">   <span style=\"color: #008080; text-decoration-color: #008080; font-weight: bold\">0</span> = <span style=\"color: #008080; text-decoration-color: #008080; font-weight: bold\">6</span>\n",
       "</pre>\n"
      ],
      "text/plain": [
       "   \u001b[1;36m0\u001b[0m = \u001b[1;36m6\u001b[0m\n"
      ]
     },
     "metadata": {},
     "output_type": "display_data"
    },
    {
     "data": {
      "text/html": [
       "<pre style=\"white-space:pre;overflow-x:auto;line-height:normal;font-family:Menlo,'DejaVu Sans Mono',consolas,'Courier New',monospace\">   <span style=\"color: #008080; text-decoration-color: #008080; font-weight: bold\">0</span> = <span style=\"color: #008080; text-decoration-color: #008080; font-weight: bold\">9</span>\n",
       "</pre>\n"
      ],
      "text/plain": [
       "   \u001b[1;36m0\u001b[0m = \u001b[1;36m9\u001b[0m\n"
      ]
     },
     "metadata": {},
     "output_type": "display_data"
    },
    {
     "data": {
      "text/html": [
       "<pre style=\"white-space:pre;overflow-x:auto;line-height:normal;font-family:Menlo,'DejaVu Sans Mono',consolas,'Courier New',monospace\"><span style=\"color: #008080; text-decoration-color: #008080; font-weight: bold\">1</span> = <span style=\"color: #008080; text-decoration-color: #008080; font-weight: bold\">1</span>\n",
       "</pre>\n"
      ],
      "text/plain": [
       "\u001b[1;36m1\u001b[0m = \u001b[1;36m1\u001b[0m\n"
      ]
     },
     "metadata": {},
     "output_type": "display_data"
    },
    {
     "data": {
      "text/html": [
       "<pre style=\"white-space:pre;overflow-x:auto;line-height:normal;font-family:Menlo,'DejaVu Sans Mono',consolas,'Courier New',monospace\"><span style=\"color: #008080; text-decoration-color: #008080; font-weight: bold\">2</span> = <span style=\"color: #008080; text-decoration-color: #008080; font-weight: bold\">2</span>\n",
       "</pre>\n"
      ],
      "text/plain": [
       "\u001b[1;36m2\u001b[0m = \u001b[1;36m2\u001b[0m\n"
      ]
     },
     "metadata": {},
     "output_type": "display_data"
    },
    {
     "data": {
      "text/html": [
       "<pre style=\"white-space:pre;overflow-x:auto;line-height:normal;font-family:Menlo,'DejaVu Sans Mono',consolas,'Courier New',monospace\">   <span style=\"color: #008080; text-decoration-color: #008080; font-weight: bold\">3</span> = <span style=\"color: #008080; text-decoration-color: #008080; font-weight: bold\">2</span>\n",
       "</pre>\n"
      ],
      "text/plain": [
       "   \u001b[1;36m3\u001b[0m = \u001b[1;36m2\u001b[0m\n"
      ]
     },
     "metadata": {},
     "output_type": "display_data"
    },
    {
     "data": {
      "text/html": [
       "<pre style=\"white-space:pre;overflow-x:auto;line-height:normal;font-family:Menlo,'DejaVu Sans Mono',consolas,'Courier New',monospace\">   <span style=\"color: #008080; text-decoration-color: #008080; font-weight: bold\">2</span> = <span style=\"color: #008080; text-decoration-color: #008080; font-weight: bold\">3</span>\n",
       "</pre>\n"
      ],
      "text/plain": [
       "   \u001b[1;36m2\u001b[0m = \u001b[1;36m3\u001b[0m\n"
      ]
     },
     "metadata": {},
     "output_type": "display_data"
    },
    {
     "data": {
      "text/html": [
       "<pre style=\"white-space:pre;overflow-x:auto;line-height:normal;font-family:Menlo,'DejaVu Sans Mono',consolas,'Courier New',monospace\"><span style=\"color: #008080; text-decoration-color: #008080; font-weight: bold\">3</span> = <span style=\"color: #008080; text-decoration-color: #008080; font-weight: bold\">3</span>\n",
       "</pre>\n"
      ],
      "text/plain": [
       "\u001b[1;36m3\u001b[0m = \u001b[1;36m3\u001b[0m\n"
      ]
     },
     "metadata": {},
     "output_type": "display_data"
    },
    {
     "data": {
      "text/html": [
       "<pre style=\"white-space:pre;overflow-x:auto;line-height:normal;font-family:Menlo,'DejaVu Sans Mono',consolas,'Courier New',monospace\">   <span style=\"color: #008080; text-decoration-color: #008080; font-weight: bold\">2</span> = <span style=\"color: #008080; text-decoration-color: #008080; font-weight: bold\">3</span>\n",
       "</pre>\n"
      ],
      "text/plain": [
       "   \u001b[1;36m2\u001b[0m = \u001b[1;36m3\u001b[0m\n"
      ]
     },
     "metadata": {},
     "output_type": "display_data"
    },
    {
     "data": {
      "text/html": [
       "<pre style=\"white-space:pre;overflow-x:auto;line-height:normal;font-family:Menlo,'DejaVu Sans Mono',consolas,'Courier New',monospace\">   <span style=\"color: #008080; text-decoration-color: #008080; font-weight: bold\">5</span> = <span style=\"color: #008080; text-decoration-color: #008080; font-weight: bold\">3</span>\n",
       "</pre>\n"
      ],
      "text/plain": [
       "   \u001b[1;36m5\u001b[0m = \u001b[1;36m3\u001b[0m\n"
      ]
     },
     "metadata": {},
     "output_type": "display_data"
    },
    {
     "data": {
      "text/html": [
       "<pre style=\"white-space:pre;overflow-x:auto;line-height:normal;font-family:Menlo,'DejaVu Sans Mono',consolas,'Courier New',monospace\">   <span style=\"color: #008080; text-decoration-color: #008080; font-weight: bold\">3</span> = <span style=\"color: #008080; text-decoration-color: #008080; font-weight: bold\">2</span>\n",
       "</pre>\n"
      ],
      "text/plain": [
       "   \u001b[1;36m3\u001b[0m = \u001b[1;36m2\u001b[0m\n"
      ]
     },
     "metadata": {},
     "output_type": "display_data"
    },
    {
     "data": {
      "text/html": [
       "<pre style=\"white-space:pre;overflow-x:auto;line-height:normal;font-family:Menlo,'DejaVu Sans Mono',consolas,'Courier New',monospace\">   <span style=\"color: #008080; text-decoration-color: #008080; font-weight: bold\">3</span> = <span style=\"color: #008080; text-decoration-color: #008080; font-weight: bold\">5</span>\n",
       "</pre>\n"
      ],
      "text/plain": [
       "   \u001b[1;36m3\u001b[0m = \u001b[1;36m5\u001b[0m\n"
      ]
     },
     "metadata": {},
     "output_type": "display_data"
    },
    {
     "data": {
      "text/html": [
       "<pre style=\"white-space:pre;overflow-x:auto;line-height:normal;font-family:Menlo,'DejaVu Sans Mono',consolas,'Courier New',monospace\"><span style=\"color: #008080; text-decoration-color: #008080; font-weight: bold\">4</span> = <span style=\"color: #008080; text-decoration-color: #008080; font-weight: bold\">4</span>\n",
       "</pre>\n"
      ],
      "text/plain": [
       "\u001b[1;36m4\u001b[0m = \u001b[1;36m4\u001b[0m\n"
      ]
     },
     "metadata": {},
     "output_type": "display_data"
    },
    {
     "data": {
      "text/html": [
       "<pre style=\"white-space:pre;overflow-x:auto;line-height:normal;font-family:Menlo,'DejaVu Sans Mono',consolas,'Courier New',monospace\"><span style=\"color: #008080; text-decoration-color: #008080; font-weight: bold\">5</span> = <span style=\"color: #008080; text-decoration-color: #008080; font-weight: bold\">5</span>\n",
       "</pre>\n"
      ],
      "text/plain": [
       "\u001b[1;36m5\u001b[0m = \u001b[1;36m5\u001b[0m\n"
      ]
     },
     "metadata": {},
     "output_type": "display_data"
    },
    {
     "data": {
      "text/html": [
       "<pre style=\"white-space:pre;overflow-x:auto;line-height:normal;font-family:Menlo,'DejaVu Sans Mono',consolas,'Courier New',monospace\">   <span style=\"color: #008080; text-decoration-color: #008080; font-weight: bold\">3</span> = <span style=\"color: #008080; text-decoration-color: #008080; font-weight: bold\">5</span>\n",
       "</pre>\n"
      ],
      "text/plain": [
       "   \u001b[1;36m3\u001b[0m = \u001b[1;36m5\u001b[0m\n"
      ]
     },
     "metadata": {},
     "output_type": "display_data"
    },
    {
     "data": {
      "text/html": [
       "<pre style=\"white-space:pre;overflow-x:auto;line-height:normal;font-family:Menlo,'DejaVu Sans Mono',consolas,'Courier New',monospace\">   <span style=\"color: #008080; text-decoration-color: #008080; font-weight: bold\">5</span> = <span style=\"color: #008080; text-decoration-color: #008080; font-weight: bold\">3</span>\n",
       "</pre>\n"
      ],
      "text/plain": [
       "   \u001b[1;36m5\u001b[0m = \u001b[1;36m3\u001b[0m\n"
      ]
     },
     "metadata": {},
     "output_type": "display_data"
    },
    {
     "data": {
      "text/html": [
       "<pre style=\"white-space:pre;overflow-x:auto;line-height:normal;font-family:Menlo,'DejaVu Sans Mono',consolas,'Courier New',monospace\"><span style=\"color: #008080; text-decoration-color: #008080; font-weight: bold\">6</span> = <span style=\"color: #008080; text-decoration-color: #008080; font-weight: bold\">6</span>\n",
       "</pre>\n"
      ],
      "text/plain": [
       "\u001b[1;36m6\u001b[0m = \u001b[1;36m6\u001b[0m\n"
      ]
     },
     "metadata": {},
     "output_type": "display_data"
    },
    {
     "data": {
      "text/html": [
       "<pre style=\"white-space:pre;overflow-x:auto;line-height:normal;font-family:Menlo,'DejaVu Sans Mono',consolas,'Courier New',monospace\">   <span style=\"color: #008080; text-decoration-color: #008080; font-weight: bold\">0</span> = <span style=\"color: #008080; text-decoration-color: #008080; font-weight: bold\">6</span>\n",
       "</pre>\n"
      ],
      "text/plain": [
       "   \u001b[1;36m0\u001b[0m = \u001b[1;36m6\u001b[0m\n"
      ]
     },
     "metadata": {},
     "output_type": "display_data"
    },
    {
     "data": {
      "text/html": [
       "<pre style=\"white-space:pre;overflow-x:auto;line-height:normal;font-family:Menlo,'DejaVu Sans Mono',consolas,'Courier New',monospace\">   <span style=\"color: #008080; text-decoration-color: #008080; font-weight: bold\">9</span> = <span style=\"color: #008080; text-decoration-color: #008080; font-weight: bold\">6</span>\n",
       "</pre>\n"
      ],
      "text/plain": [
       "   \u001b[1;36m9\u001b[0m = \u001b[1;36m6\u001b[0m\n"
      ]
     },
     "metadata": {},
     "output_type": "display_data"
    },
    {
     "data": {
      "text/html": [
       "<pre style=\"white-space:pre;overflow-x:auto;line-height:normal;font-family:Menlo,'DejaVu Sans Mono',consolas,'Courier New',monospace\">   <span style=\"color: #008080; text-decoration-color: #008080; font-weight: bold\">6</span> = <span style=\"color: #008080; text-decoration-color: #008080; font-weight: bold\">0</span>\n",
       "</pre>\n"
      ],
      "text/plain": [
       "   \u001b[1;36m6\u001b[0m = \u001b[1;36m0\u001b[0m\n"
      ]
     },
     "metadata": {},
     "output_type": "display_data"
    },
    {
     "data": {
      "text/html": [
       "<pre style=\"white-space:pre;overflow-x:auto;line-height:normal;font-family:Menlo,'DejaVu Sans Mono',consolas,'Courier New',monospace\">   <span style=\"color: #008080; text-decoration-color: #008080; font-weight: bold\">6</span> = <span style=\"color: #008080; text-decoration-color: #008080; font-weight: bold\">9</span>\n",
       "</pre>\n"
      ],
      "text/plain": [
       "   \u001b[1;36m6\u001b[0m = \u001b[1;36m9\u001b[0m\n"
      ]
     },
     "metadata": {},
     "output_type": "display_data"
    },
    {
     "data": {
      "text/html": [
       "<pre style=\"white-space:pre;overflow-x:auto;line-height:normal;font-family:Menlo,'DejaVu Sans Mono',consolas,'Courier New',monospace\">   Remove <span style=\"color: #008080; text-decoration-color: #008080; font-weight: bold\">6</span> -&gt; <span style=\"color: #008080; text-decoration-color: #008080; font-weight: bold\">5</span>\n",
       "</pre>\n"
      ],
      "text/plain": [
       "   Remove \u001b[1;36m6\u001b[0m -> \u001b[1;36m5\u001b[0m\n"
      ]
     },
     "metadata": {},
     "output_type": "display_data"
    },
    {
     "data": {
      "text/html": [
       "<pre style=\"white-space:pre;overflow-x:auto;line-height:normal;font-family:Menlo,'DejaVu Sans Mono',consolas,'Courier New',monospace\">       Add <span style=\"color: #008080; text-decoration-color: #008080; font-weight: bold\">6</span> -&gt; <span style=\"color: #008080; text-decoration-color: #008080; font-weight: bold\">8</span>\n",
       "</pre>\n"
      ],
      "text/plain": [
       "       Add \u001b[1;36m6\u001b[0m -> \u001b[1;36m8\u001b[0m\n"
      ]
     },
     "metadata": {},
     "output_type": "display_data"
    },
    {
     "data": {
      "text/html": [
       "<pre style=\"white-space:pre;overflow-x:auto;line-height:normal;font-family:Menlo,'DejaVu Sans Mono',consolas,'Courier New',monospace\"><span style=\"color: #008080; text-decoration-color: #008080; font-weight: bold\">7</span> = <span style=\"color: #008080; text-decoration-color: #008080; font-weight: bold\">7</span>\n",
       "</pre>\n"
      ],
      "text/plain": [
       "\u001b[1;36m7\u001b[0m = \u001b[1;36m7\u001b[0m\n"
      ]
     },
     "metadata": {},
     "output_type": "display_data"
    },
    {
     "data": {
      "text/html": [
       "<pre style=\"white-space:pre;overflow-x:auto;line-height:normal;font-family:Menlo,'DejaVu Sans Mono',consolas,'Courier New',monospace\">   Remove <span style=\"color: #008080; text-decoration-color: #008080; font-weight: bold\">7</span> -&gt; <span style=\"color: #008080; text-decoration-color: #008080; font-weight: bold\">1</span>\n",
       "</pre>\n"
      ],
      "text/plain": [
       "   Remove \u001b[1;36m7\u001b[0m -> \u001b[1;36m1\u001b[0m\n"
      ]
     },
     "metadata": {},
     "output_type": "display_data"
    },
    {
     "data": {
      "text/html": [
       "<pre style=\"white-space:pre;overflow-x:auto;line-height:normal;font-family:Menlo,'DejaVu Sans Mono',consolas,'Courier New',monospace\"><span style=\"color: #008080; text-decoration-color: #008080; font-weight: bold\">8</span> = <span style=\"color: #008080; text-decoration-color: #008080; font-weight: bold\">8</span>\n",
       "</pre>\n"
      ],
      "text/plain": [
       "\u001b[1;36m8\u001b[0m = \u001b[1;36m8\u001b[0m\n"
      ]
     },
     "metadata": {},
     "output_type": "display_data"
    },
    {
     "data": {
      "text/html": [
       "<pre style=\"white-space:pre;overflow-x:auto;line-height:normal;font-family:Menlo,'DejaVu Sans Mono',consolas,'Courier New',monospace\">   Remove <span style=\"color: #008080; text-decoration-color: #008080; font-weight: bold\">8</span> -&gt; <span style=\"color: #008080; text-decoration-color: #008080; font-weight: bold\">0</span>\n",
       "</pre>\n"
      ],
      "text/plain": [
       "   Remove \u001b[1;36m8\u001b[0m -> \u001b[1;36m0\u001b[0m\n"
      ]
     },
     "metadata": {},
     "output_type": "display_data"
    },
    {
     "data": {
      "text/html": [
       "<pre style=\"white-space:pre;overflow-x:auto;line-height:normal;font-family:Menlo,'DejaVu Sans Mono',consolas,'Courier New',monospace\">   Remove <span style=\"color: #008080; text-decoration-color: #008080; font-weight: bold\">8</span> -&gt; <span style=\"color: #008080; text-decoration-color: #008080; font-weight: bold\">6</span>\n",
       "</pre>\n"
      ],
      "text/plain": [
       "   Remove \u001b[1;36m8\u001b[0m -> \u001b[1;36m6\u001b[0m\n"
      ]
     },
     "metadata": {},
     "output_type": "display_data"
    },
    {
     "data": {
      "text/html": [
       "<pre style=\"white-space:pre;overflow-x:auto;line-height:normal;font-family:Menlo,'DejaVu Sans Mono',consolas,'Courier New',monospace\">   Remove <span style=\"color: #008080; text-decoration-color: #008080; font-weight: bold\">8</span> -&gt; <span style=\"color: #008080; text-decoration-color: #008080; font-weight: bold\">9</span>\n",
       "</pre>\n"
      ],
      "text/plain": [
       "   Remove \u001b[1;36m8\u001b[0m -> \u001b[1;36m9\u001b[0m\n"
      ]
     },
     "metadata": {},
     "output_type": "display_data"
    },
    {
     "data": {
      "text/html": [
       "<pre style=\"white-space:pre;overflow-x:auto;line-height:normal;font-family:Menlo,'DejaVu Sans Mono',consolas,'Courier New',monospace\"><span style=\"color: #008080; text-decoration-color: #008080; font-weight: bold\">9</span> = <span style=\"color: #008080; text-decoration-color: #008080; font-weight: bold\">9</span>\n",
       "</pre>\n"
      ],
      "text/plain": [
       "\u001b[1;36m9\u001b[0m = \u001b[1;36m9\u001b[0m\n"
      ]
     },
     "metadata": {},
     "output_type": "display_data"
    },
    {
     "data": {
      "text/html": [
       "<pre style=\"white-space:pre;overflow-x:auto;line-height:normal;font-family:Menlo,'DejaVu Sans Mono',consolas,'Courier New',monospace\">   <span style=\"color: #008080; text-decoration-color: #008080; font-weight: bold\">0</span> = <span style=\"color: #008080; text-decoration-color: #008080; font-weight: bold\">9</span>\n",
       "</pre>\n"
      ],
      "text/plain": [
       "   \u001b[1;36m0\u001b[0m = \u001b[1;36m9\u001b[0m\n"
      ]
     },
     "metadata": {},
     "output_type": "display_data"
    },
    {
     "data": {
      "text/html": [
       "<pre style=\"white-space:pre;overflow-x:auto;line-height:normal;font-family:Menlo,'DejaVu Sans Mono',consolas,'Courier New',monospace\">   <span style=\"color: #008080; text-decoration-color: #008080; font-weight: bold\">6</span> = <span style=\"color: #008080; text-decoration-color: #008080; font-weight: bold\">9</span>\n",
       "</pre>\n"
      ],
      "text/plain": [
       "   \u001b[1;36m6\u001b[0m = \u001b[1;36m9\u001b[0m\n"
      ]
     },
     "metadata": {},
     "output_type": "display_data"
    },
    {
     "data": {
      "text/html": [
       "<pre style=\"white-space:pre;overflow-x:auto;line-height:normal;font-family:Menlo,'DejaVu Sans Mono',consolas,'Courier New',monospace\">   <span style=\"color: #008080; text-decoration-color: #008080; font-weight: bold\">9</span> = <span style=\"color: #008080; text-decoration-color: #008080; font-weight: bold\">0</span>\n",
       "</pre>\n"
      ],
      "text/plain": [
       "   \u001b[1;36m9\u001b[0m = \u001b[1;36m0\u001b[0m\n"
      ]
     },
     "metadata": {},
     "output_type": "display_data"
    },
    {
     "data": {
      "text/html": [
       "<pre style=\"white-space:pre;overflow-x:auto;line-height:normal;font-family:Menlo,'DejaVu Sans Mono',consolas,'Courier New',monospace\">   <span style=\"color: #008080; text-decoration-color: #008080; font-weight: bold\">9</span> = <span style=\"color: #008080; text-decoration-color: #008080; font-weight: bold\">6</span>\n",
       "</pre>\n"
      ],
      "text/plain": [
       "   \u001b[1;36m9\u001b[0m = \u001b[1;36m6\u001b[0m\n"
      ]
     },
     "metadata": {},
     "output_type": "display_data"
    },
    {
     "data": {
      "text/html": [
       "<pre style=\"white-space:pre;overflow-x:auto;line-height:normal;font-family:Menlo,'DejaVu Sans Mono',consolas,'Courier New',monospace\">   Remove <span style=\"color: #008080; text-decoration-color: #008080; font-weight: bold\">9</span> -&gt; <span style=\"color: #008080; text-decoration-color: #008080; font-weight: bold\">3</span>\n",
       "</pre>\n"
      ],
      "text/plain": [
       "   Remove \u001b[1;36m9\u001b[0m -> \u001b[1;36m3\u001b[0m\n"
      ]
     },
     "metadata": {},
     "output_type": "display_data"
    },
    {
     "data": {
      "text/html": [
       "<pre style=\"white-space:pre;overflow-x:auto;line-height:normal;font-family:Menlo,'DejaVu Sans Mono',consolas,'Courier New',monospace\">       Add <span style=\"color: #008080; text-decoration-color: #008080; font-weight: bold\">9</span> -&gt; <span style=\"color: #008080; text-decoration-color: #008080; font-weight: bold\">8</span>\n",
       "</pre>\n"
      ],
      "text/plain": [
       "       Add \u001b[1;36m9\u001b[0m -> \u001b[1;36m8\u001b[0m\n"
      ]
     },
     "metadata": {},
     "output_type": "display_data"
    },
    {
     "data": {
      "text/html": [
       "<pre style=\"white-space:pre;overflow-x:auto;line-height:normal;font-family:Menlo,'DejaVu Sans Mono',consolas,'Courier New',monospace\">   Remove <span style=\"color: #008080; text-decoration-color: #008080; font-weight: bold\">9</span> -&gt; <span style=\"color: #008080; text-decoration-color: #008080; font-weight: bold\">5</span>\n",
       "</pre>\n"
      ],
      "text/plain": [
       "   Remove \u001b[1;36m9\u001b[0m -> \u001b[1;36m5\u001b[0m\n"
      ]
     },
     "metadata": {},
     "output_type": "display_data"
    },
    {
     "data": {
      "text/html": [
       "<pre style=\"white-space:pre;overflow-x:auto;line-height:normal;font-family:Menlo,'DejaVu Sans Mono',consolas,'Courier New',monospace\">       Add <span style=\"color: #008080; text-decoration-color: #008080; font-weight: bold\">9</span> -&gt; <span style=\"color: #008080; text-decoration-color: #008080; font-weight: bold\">8</span>\n",
       "</pre>\n"
      ],
      "text/plain": [
       "       Add \u001b[1;36m9\u001b[0m -> \u001b[1;36m8\u001b[0m\n"
      ]
     },
     "metadata": {},
     "output_type": "display_data"
    },
    {
     "data": {
      "text/html": [
       "<pre style=\"white-space:pre;overflow-x:auto;line-height:normal;font-family:Menlo,'DejaVu Sans Mono',consolas,'Courier New',monospace\"><span style=\"color: #800080; text-decoration-color: #800080; font-weight: bold\">defaultdict</span><span style=\"font-weight: bold\">(&lt;</span><span style=\"color: #ff00ff; text-decoration-color: #ff00ff; font-weight: bold\">class</span><span style=\"color: #000000; text-decoration-color: #000000\"> </span><span style=\"color: #008000; text-decoration-color: #008000\">'list'</span><span style=\"font-weight: bold\">&gt;</span>, <span style=\"font-weight: bold\">{</span>\n",
       "    <span style=\"color: #008000; text-decoration-color: #008000\">'6 = 0'</span>: <span style=\"font-weight: bold\">[</span><span style=\"color: #008000; text-decoration-color: #008000\">'0 = 0'</span>, <span style=\"color: #008000; text-decoration-color: #008000\">'6 = 6'</span><span style=\"font-weight: bold\">]</span>,\n",
       "    <span style=\"color: #008000; text-decoration-color: #008000\">'9 = 0'</span>: <span style=\"font-weight: bold\">[</span><span style=\"color: #008000; text-decoration-color: #008000\">'0 = 0'</span>, <span style=\"color: #008000; text-decoration-color: #008000\">'9 = 9'</span><span style=\"font-weight: bold\">]</span>,\n",
       "    <span style=\"color: #008000; text-decoration-color: #008000\">'0 = 6'</span>: <span style=\"font-weight: bold\">[</span><span style=\"color: #008000; text-decoration-color: #008000\">'0 = 0'</span>, <span style=\"color: #008000; text-decoration-color: #008000\">'6 = 6'</span><span style=\"font-weight: bold\">]</span>,\n",
       "    <span style=\"color: #008000; text-decoration-color: #008000\">'0 = 9'</span>: <span style=\"font-weight: bold\">[</span><span style=\"color: #008000; text-decoration-color: #008000\">'0 = 0'</span>, <span style=\"color: #008000; text-decoration-color: #008000\">'9 = 9'</span><span style=\"font-weight: bold\">]</span>,\n",
       "    <span style=\"color: #008000; text-decoration-color: #008000\">'3 = 2'</span>: <span style=\"font-weight: bold\">[</span><span style=\"color: #008000; text-decoration-color: #008000\">'2 = 2'</span>, <span style=\"color: #008000; text-decoration-color: #008000\">'3 = 3'</span><span style=\"font-weight: bold\">]</span>,\n",
       "    <span style=\"color: #008000; text-decoration-color: #008000\">'2 = 3'</span>: <span style=\"font-weight: bold\">[</span><span style=\"color: #008000; text-decoration-color: #008000\">'2 = 2'</span>, <span style=\"color: #008000; text-decoration-color: #008000\">'3 = 3'</span><span style=\"font-weight: bold\">]</span>,\n",
       "    <span style=\"color: #008000; text-decoration-color: #008000\">'5 = 3'</span>: <span style=\"font-weight: bold\">[</span><span style=\"color: #008000; text-decoration-color: #008000\">'3 = 3'</span>, <span style=\"color: #008000; text-decoration-color: #008000\">'5 = 5'</span><span style=\"font-weight: bold\">]</span>,\n",
       "    <span style=\"color: #008000; text-decoration-color: #008000\">'3 = 5'</span>: <span style=\"font-weight: bold\">[</span><span style=\"color: #008000; text-decoration-color: #008000\">'3 = 3'</span>, <span style=\"color: #008000; text-decoration-color: #008000\">'5 = 5'</span><span style=\"font-weight: bold\">]</span>,\n",
       "    <span style=\"color: #008000; text-decoration-color: #008000\">'9 = 6'</span>: <span style=\"font-weight: bold\">[</span><span style=\"color: #008000; text-decoration-color: #008000\">'6 = 6'</span>, <span style=\"color: #008000; text-decoration-color: #008000\">'9 = 9'</span><span style=\"font-weight: bold\">]</span>,\n",
       "    <span style=\"color: #008000; text-decoration-color: #008000\">'6 = 9'</span>: <span style=\"font-weight: bold\">[</span><span style=\"color: #008000; text-decoration-color: #008000\">'6 = 6'</span>, <span style=\"color: #008000; text-decoration-color: #008000\">'9 = 9'</span><span style=\"font-weight: bold\">]</span>,\n",
       "    <span style=\"color: #008000; text-decoration-color: #008000\">'5 = 8'</span>: <span style=\"font-weight: bold\">[</span><span style=\"color: #008000; text-decoration-color: #008000\">'6 = 6'</span>, <span style=\"color: #008000; text-decoration-color: #008000\">'9 = 9'</span><span style=\"font-weight: bold\">]</span>,\n",
       "    <span style=\"color: #008000; text-decoration-color: #008000\">'8 = 5'</span>: <span style=\"font-weight: bold\">[</span><span style=\"color: #008000; text-decoration-color: #008000\">'6 = 6'</span>, <span style=\"color: #008000; text-decoration-color: #008000\">'9 = 9'</span><span style=\"font-weight: bold\">]</span>,\n",
       "    <span style=\"color: #008000; text-decoration-color: #008000\">'3 = 8'</span>: <span style=\"font-weight: bold\">[</span><span style=\"color: #008000; text-decoration-color: #008000\">'9 = 9'</span><span style=\"font-weight: bold\">]</span>,\n",
       "    <span style=\"color: #008000; text-decoration-color: #008000\">'8 = 3'</span>: <span style=\"font-weight: bold\">[</span><span style=\"color: #008000; text-decoration-color: #008000\">'9 = 9'</span><span style=\"font-weight: bold\">]</span>\n",
       "<span style=\"font-weight: bold\">})</span>\n",
       "</pre>\n"
      ],
      "text/plain": [
       "\u001b[1;35mdefaultdict\u001b[0m\u001b[1m(\u001b[0m\u001b[1m<\u001b[0m\u001b[1;95mclass\u001b[0m\u001b[39m \u001b[0m\u001b[32m'list'\u001b[0m\u001b[1m>\u001b[0m, \u001b[1m{\u001b[0m\n",
       "    \u001b[32m'6 = 0'\u001b[0m: \u001b[1m[\u001b[0m\u001b[32m'0 = 0'\u001b[0m, \u001b[32m'6 = 6'\u001b[0m\u001b[1m]\u001b[0m,\n",
       "    \u001b[32m'9 = 0'\u001b[0m: \u001b[1m[\u001b[0m\u001b[32m'0 = 0'\u001b[0m, \u001b[32m'9 = 9'\u001b[0m\u001b[1m]\u001b[0m,\n",
       "    \u001b[32m'0 = 6'\u001b[0m: \u001b[1m[\u001b[0m\u001b[32m'0 = 0'\u001b[0m, \u001b[32m'6 = 6'\u001b[0m\u001b[1m]\u001b[0m,\n",
       "    \u001b[32m'0 = 9'\u001b[0m: \u001b[1m[\u001b[0m\u001b[32m'0 = 0'\u001b[0m, \u001b[32m'9 = 9'\u001b[0m\u001b[1m]\u001b[0m,\n",
       "    \u001b[32m'3 = 2'\u001b[0m: \u001b[1m[\u001b[0m\u001b[32m'2 = 2'\u001b[0m, \u001b[32m'3 = 3'\u001b[0m\u001b[1m]\u001b[0m,\n",
       "    \u001b[32m'2 = 3'\u001b[0m: \u001b[1m[\u001b[0m\u001b[32m'2 = 2'\u001b[0m, \u001b[32m'3 = 3'\u001b[0m\u001b[1m]\u001b[0m,\n",
       "    \u001b[32m'5 = 3'\u001b[0m: \u001b[1m[\u001b[0m\u001b[32m'3 = 3'\u001b[0m, \u001b[32m'5 = 5'\u001b[0m\u001b[1m]\u001b[0m,\n",
       "    \u001b[32m'3 = 5'\u001b[0m: \u001b[1m[\u001b[0m\u001b[32m'3 = 3'\u001b[0m, \u001b[32m'5 = 5'\u001b[0m\u001b[1m]\u001b[0m,\n",
       "    \u001b[32m'9 = 6'\u001b[0m: \u001b[1m[\u001b[0m\u001b[32m'6 = 6'\u001b[0m, \u001b[32m'9 = 9'\u001b[0m\u001b[1m]\u001b[0m,\n",
       "    \u001b[32m'6 = 9'\u001b[0m: \u001b[1m[\u001b[0m\u001b[32m'6 = 6'\u001b[0m, \u001b[32m'9 = 9'\u001b[0m\u001b[1m]\u001b[0m,\n",
       "    \u001b[32m'5 = 8'\u001b[0m: \u001b[1m[\u001b[0m\u001b[32m'6 = 6'\u001b[0m, \u001b[32m'9 = 9'\u001b[0m\u001b[1m]\u001b[0m,\n",
       "    \u001b[32m'8 = 5'\u001b[0m: \u001b[1m[\u001b[0m\u001b[32m'6 = 6'\u001b[0m, \u001b[32m'9 = 9'\u001b[0m\u001b[1m]\u001b[0m,\n",
       "    \u001b[32m'3 = 8'\u001b[0m: \u001b[1m[\u001b[0m\u001b[32m'9 = 9'\u001b[0m\u001b[1m]\u001b[0m,\n",
       "    \u001b[32m'8 = 3'\u001b[0m: \u001b[1m[\u001b[0m\u001b[32m'9 = 9'\u001b[0m\u001b[1m]\u001b[0m\n",
       "\u001b[1m}\u001b[0m\u001b[1m)\u001b[0m\n"
      ]
     },
     "metadata": {},
     "output_type": "display_data"
    }
   ],
   "source": [
    "exc = {\n",
    "    0: [6, 9],\n",
    "    1: [], \n",
    "    2: [3], \n",
    "    3: [2, 5], \n",
    "    4: [], \n",
    "    5: [3], \n",
    "    6: [0, 9],\n",
    "    7: [], \n",
    "    8: [],\n",
    "    9: [0, 6],\n",
    "}\n",
    "rem = {\n",
    "    0: [],\n",
    "    1: [],\n",
    "    2: [],\n",
    "    3: [],\n",
    "    4: [],\n",
    "    5: [],\n",
    "    6: [5],\n",
    "    7: [1],\n",
    "    8: [0, 6, 9],\n",
    "    9: [3, 5],\n",
    "}\n",
    "add = {\n",
    "    0: [8],\n",
    "    1: [7],\n",
    "    2: [],\n",
    "    3: [9],\n",
    "    4: [],\n",
    "    5: [6, 9],\n",
    "    6: [8],\n",
    "    7: [],\n",
    "    8: [],\n",
    "    9: [8],\n",
    " \n",
    "}\n",
    "import collections\n",
    "table = collections.defaultdict(list)\n",
    "for n in exc:\n",
    "    equality = f\"{n} = {n}\"\n",
    "    print(equality)\n",
    "    for l in exc[n]:\n",
    "        riddle = f'{l} = {n}'\n",
    "        table[riddle].append(equality)\n",
    "        print(f'   {riddle}')\n",
    "    for l in exc[n]:\n",
    "        riddle = f'{n} = {l}'\n",
    "        table[riddle].append(equality)\n",
    "        print(f'   {riddle}')\n",
    "        \n",
    "    #continue\n",
    "    for l in rem[n]:\n",
    "        print(f'   Remove {n} -> {l}')\n",
    "        for r in add[n]:\n",
    "            print(f'       Add {n} -> {r}')\n",
    "            riddle = f'{l} = {r}'\n",
    "            table[riddle].append(equality)\n",
    "            riddle = f'{r} = {l}'\n",
    "            table[riddle].append(equality)\n",
    "\n",
    "\n",
    "print(table)"
   ]
  },
  {
   "cell_type": "code",
   "execution_count": null,
   "id": "d6f3f32b",
   "metadata": {},
   "outputs": [],
   "source": []
  },
  {
   "cell_type": "code",
   "execution_count": null,
   "id": "3630e2f4",
   "metadata": {},
   "outputs": [],
   "source": []
  }
 ],
 "metadata": {
  "kernelspec": {
   "display_name": "Python 3 (ipykernel)",
   "language": "python",
   "name": "python3"
  },
  "language_info": {
   "codemirror_mode": {
    "name": "ipython",
    "version": 3
   },
   "file_extension": ".py",
   "mimetype": "text/x-python",
   "name": "python",
   "nbconvert_exporter": "python",
   "pygments_lexer": "ipython3",
   "version": "3.9.12"
  }
 },
 "nbformat": 4,
 "nbformat_minor": 5
}
