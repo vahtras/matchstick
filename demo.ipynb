{
 "cells": [
  {
   "cell_type": "code",
   "execution_count": 1,
   "id": "3c053ac4",
   "metadata": {},
   "outputs": [],
   "source": [
    "%load_ext autoreload\n",
    "%autoreload 2"
   ]
  },
  {
   "cell_type": "code",
   "execution_count": 2,
   "id": "f2eeda7f",
   "metadata": {},
   "outputs": [],
   "source": [
    "from digits import Digit"
   ]
  },
  {
   "cell_type": "markdown",
   "id": "3aa84ea3",
   "metadata": {},
   "source": [
    "Ok, single digits reasonable, but a representation of an equation required more formatting, a matrix display like\n",
    "\n",
    "Now, single equalities\n",
    "\n",
    "1 = 1\n",
    "2 = 2\n",
    "\n",
    "* find all transformations of digits\n",
    "* do a reverse order of transformations, to see if one transformation can arrive from different\n",
    "e. g. singles\n",
    "\n",
    "0 = 0 -> 6 = 0, 9 = 0, 0 = 6, 0 = 9, \n",
    "6 = 6 -> 0 = 6, 9 = 6, 6 = 0, 6 =  \n",
    "\n",
    "so the puzzle 6 = 0 has two solutions, 0 = 0, 6 = 6\n",
    "\n",
    "internal excitations and charge transfer excitation (one removed, anothre added)"
   ]
  },
  {
   "cell_type": "markdown",
   "id": "730b21ea",
   "metadata": {},
   "source": [
    "## Single equality\n",
    "\n",
    "1 = 1"
   ]
  },
  {
   "cell_type": "code",
   "execution_count": 3,
   "id": "4ba5a18c",
   "metadata": {},
   "outputs": [
    {
     "name": "stdout",
     "output_type": "stream",
     "text": [
      "0 = 0\n",
      "   6 = 0\n",
      "   9 = 0\n",
      "   0 = 6\n",
      "   0 = 9\n",
      "1 = 1\n",
      "2 = 2\n",
      "   3 = 2\n",
      "   2 = 3\n",
      "3 = 3\n",
      "   2 = 3\n",
      "   5 = 3\n",
      "   3 = 2\n",
      "   3 = 5\n",
      "4 = 4\n",
      "5 = 5\n",
      "   3 = 5\n",
      "   5 = 3\n",
      "6 = 6\n",
      "   0 = 6\n",
      "   9 = 6\n",
      "   6 = 0\n",
      "   6 = 9\n",
      "   Remove 6 -> 5\n",
      "       Add 6 -> 8\n",
      "7 = 7\n",
      "   Remove 7 -> 1\n",
      "8 = 8\n",
      "   Remove 8 -> 0\n",
      "   Remove 8 -> 6\n",
      "   Remove 8 -> 9\n",
      "9 = 9\n",
      "   0 = 9\n",
      "   6 = 9\n",
      "   9 = 0\n",
      "   9 = 6\n",
      "   Remove 9 -> 3\n",
      "       Add 9 -> 8\n",
      "   Remove 9 -> 5\n",
      "       Add 9 -> 8\n",
      "defaultdict(<class 'list'>, {'6 = 0': ['0 = 0', '6 = 6'], '9 = 0': ['0 = 0', '9 = 9'], '0 = 6': ['0 = 0', '6 = 6'], '0 = 9': ['0 = 0', '9 = 9'], '3 = 2': ['2 = 2', '3 = 3'], '2 = 3': ['2 = 2', '3 = 3'], '5 = 3': ['3 = 3', '5 = 5'], '3 = 5': ['3 = 3', '5 = 5'], '9 = 6': ['6 = 6', '9 = 9'], '6 = 9': ['6 = 6', '9 = 9'], '5 = 8': ['6 = 6', '9 = 9'], '8 = 5': ['6 = 6', '9 = 9'], '3 = 8': ['9 = 9'], '8 = 3': ['9 = 9']})\n"
     ]
    }
   ],
   "source": [
    "exc = {\n",
    "    0: [6, 9],\n",
    "    1: [], \n",
    "    2: [3], \n",
    "    3: [2, 5], \n",
    "    4: [], \n",
    "    5: [3], \n",
    "    6: [0, 9],\n",
    "    7: [], \n",
    "    8: [],\n",
    "    9: [0, 6],\n",
    "}\n",
    "rem = {\n",
    "    0: [],\n",
    "    1: [],\n",
    "    2: [],\n",
    "    3: [],\n",
    "    4: [],\n",
    "    5: [],\n",
    "    6: [5],\n",
    "    7: [1],\n",
    "    8: [0, 6, 9],\n",
    "    9: [3, 5],\n",
    "}\n",
    "add = {\n",
    "    0: [8],\n",
    "    1: [7],\n",
    "    2: [],\n",
    "    3: [9],\n",
    "    4: [],\n",
    "    5: [6, 9],\n",
    "    6: [8],\n",
    "    7: [],\n",
    "    8: [],\n",
    "    9: [8],\n",
    " \n",
    "}\n",
    "import collections\n",
    "table = collections.defaultdict(list)\n",
    "for n in exc:\n",
    "    equality = f\"{n} = {n}\"\n",
    "    print(equality)\n",
    "    for l in exc[n]:\n",
    "        riddle = f'{l} = {n}'\n",
    "        table[riddle].append(equality)\n",
    "        print(f'   {riddle}')\n",
    "    for l in exc[n]:\n",
    "        riddle = f'{n} = {l}'\n",
    "        table[riddle].append(equality)\n",
    "        print(f'   {riddle}')\n",
    "        \n",
    "    #continue\n",
    "    for l in rem[n]:\n",
    "        print(f'   Remove {n} -> {l}')\n",
    "        for r in add[n]:\n",
    "            print(f'       Add {n} -> {r}')\n",
    "            riddle = f'{l} = {r}'\n",
    "            table[riddle].append(equality)\n",
    "            riddle = f'{r} = {l}'\n",
    "            table[riddle].append(equality)\n",
    "\n",
    "\n",
    "print(table)"
   ]
  },
  {
   "cell_type": "code",
   "execution_count": 5,
   "id": "3630e2f4",
   "metadata": {},
   "outputs": [
    {
     "name": "stdout",
     "output_type": "stream",
     "text": [
      "0 = 0\n",
      "   6 = 0\n",
      "   9 = 0\n",
      "1 = 1\n",
      "2 = 2\n",
      "   3 = 2\n",
      "3 = 3\n",
      "   2 = 3\n",
      "   5 = 3\n",
      "4 = 4\n",
      "5 = 5\n",
      "   3 = 5\n",
      "6 = 6\n",
      "   9 = 6\n",
      "   0 = 6\n",
      "   5 = 8\n",
      "7 = 7\n",
      "8 = 8\n",
      "9 = 9\n",
      "   6 = 9\n",
      "   0 = 9\n",
      "   5 = 8\n",
      "   3 = 8\n"
     ]
    }
   ],
   "source": [
    "for n in range(10):\n",
    "    print(f'{n} = {n}')\n",
    "    left = Digit(n)\n",
    "    right = Digit(n)  \n",
    "    for le in left.excitations():\n",
    "        print(f'   {le} = {right}')\n",
    "        #print(f'   {right} = {le}')\n",
    "    for lo in left.ionized():\n",
    "        for rv in left.anionized():\n",
    "            print(f'   {lo} = {rv}')\n",
    "            #print(f'   {rv} = {lo}')\n",
    "\n",
    "\n"
   ]
  },
  {
   "cell_type": "code",
   "execution_count": null,
   "id": "6de35d96",
   "metadata": {},
   "outputs": [],
   "source": []
  },
  {
   "cell_type": "code",
   "execution_count": null,
   "id": "f3c08f2c",
   "metadata": {},
   "outputs": [],
   "source": []
  }
 ],
 "metadata": {
  "kernelspec": {
   "display_name": "Python 3 (ipykernel)",
   "language": "python",
   "name": "python3"
  },
  "language_info": {
   "codemirror_mode": {
    "name": "ipython",
    "version": 3
   },
   "file_extension": ".py",
   "mimetype": "text/x-python",
   "name": "python",
   "nbconvert_exporter": "python",
   "pygments_lexer": "ipython3",
   "version": "3.9.12"
  }
 },
 "nbformat": 4,
 "nbformat_minor": 5
}
